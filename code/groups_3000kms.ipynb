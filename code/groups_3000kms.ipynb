{
 "cells": [
  {
   "cell_type": "code",
   "execution_count": 4,
   "metadata": {
    "collapsed": true
   },
   "outputs": [],
   "source": [
    "import matplotlib.pyplot as plt\n",
    "import numpy as np\n",
    "import pandas as pd\n",
    "from collections import Counter\n",
    "%matplotlib inline"
   ]
  },
  {
   "cell_type": "code",
   "execution_count": 6,
   "metadata": {
    "collapsed": true
   },
   "outputs": [],
   "source": [
    "data = pd.read_csv(\"../data/obs/data_kourkchi_tully.csv\")\n",
    "sim_data_2D = pd.read_csv(\"../data/sim/illustris-1/simul.2D.iter.0.v01.group.csv\")\n",
    "sim_data_3D = pd.read_csv(\"../data/sim/illustris-1/simul.3D.iter.0.v01.group.csv\")\n"
   ]
  },
  {
   "cell_type": "code",
   "execution_count": 15,
   "metadata": {
    "collapsed": false
   },
   "outputs": [
    {
     "data": {
      "text/plain": [
       "<matplotlib.legend.Legend at 0x1133095f8>"
      ]
     },
     "execution_count": 15,
     "metadata": {},
     "output_type": "execute_result"
    },
    {
     "data": {
      "image/png": "[encoded data removed]",
      "text/plain": [
       "<matplotlib.figure.Figure at 0x11314c9e8>"
      ]
     },
     "metadata": {},
     "output_type": "display_data"
    }
   ],
   "source": [
    "unique_groups = np.unique(data['PGC1'])\n",
    "center_group = np.in1d(data['pgc'], unique_groups)\n",
    "a= plt.hist(data['gMassL'][center_group], np.arange(10,15.0,0.2), log=True, label='observations')\n",
    "\n",
    "groups_2D = sim_data_2D[sim_data_2D['grpID']!=-1]\n",
    "b = plt.hist(np.log10(groups_2D['Mv_lum']), np.arange(10,15.0,0.2), log=True, label='sim 2D')\n",
    "\n",
    "#groups_3D = sim_data_3D[sim_data_3D['grpID']!=0]\n",
    "#c = plt.hist(np.log10(groups_3D['Mv_lum']), np.arange(10,16.0,0.2), log=True, label='sim 3D', alpha=0.6)\n",
    "plt.legend()\n"
   ]
  },
  {
   "cell_type": "code",
   "execution_count": null,
   "metadata": {
    "collapsed": true
   },
   "outputs": [],
   "source": []
  }
 ],
 "metadata": {
  "kernelspec": {
   "display_name": "Python 3",
   "language": "python",
   "name": "python3"
  },
  "language_info": {
   "codemirror_mode": {
    "name": "ipython",
    "version": 3
   },
   "file_extension": ".py",
   "mimetype": "text/x-python",
   "name": "python",
   "nbconvert_exporter": "python",
   "pygments_lexer": "ipython3",
   "version": "3.6.0"
  }
 },
 "nbformat": 4,
 "nbformat_minor": 2
}
